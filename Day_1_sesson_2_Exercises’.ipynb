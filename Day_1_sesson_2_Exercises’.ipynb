{
  "nbformat": 4,
  "nbformat_minor": 0,
  "metadata": {
    "colab": {
      "name": "Day 1 sesson 2 Exercises’.ipynb",
      "provenance": [],
      "collapsed_sections": [],
      "include_colab_link": true
    },
    "kernelspec": {
      "name": "python3",
      "display_name": "Python 3"
    }
  },
  "cells": [
    {
      "cell_type": "markdown",
      "metadata": {
        "id": "view-in-github",
        "colab_type": "text"
      },
      "source": [
        "<a href=\"https://colab.research.google.com/github/mssuhas/certification-and-online-coding/blob/master/Day_1_sesson_2_Exercises%E2%80%99.ipynb\" target=\"_parent\"><img src=\"https://colab.research.google.com/assets/colab-badge.svg\" alt=\"Open In Colab\"/></a>"
      ]
    },
    {
      "cell_type": "markdown",
      "metadata": {
        "id": "aX6HpfQNu0_I",
        "colab_type": "text"
      },
      "source": [
        "# A program to print the triangle "
      ]
    },
    {
      "cell_type": "code",
      "metadata": {
        "id": "xzYELNPPudks",
        "colab_type": "code",
        "outputId": "2bfe90ae-c856-4b26-a7d6-729fac7006cb",
        "colab": {
          "base_uri": "https://localhost:8080/",
          "height": 204
        }
      },
      "source": [
        "n = int(input(\"Enter The N Value:\"))\n",
        "c=1\n",
        "for i in range(n):\n",
        "  for j in range(i+1):\n",
        "    print(c, end=' ')\n",
        "    c+=1\n",
        "  print(\"\\n\")\n",
        "  c=c-i"
      ],
      "execution_count": 0,
      "outputs": [
        {
          "output_type": "stream",
          "text": [
            "Enter The N Value:5\n",
            "1 \n",
            "\n",
            "2 3 \n",
            "\n",
            "3 4 5 \n",
            "\n",
            "4 5 6 7 \n",
            "\n",
            "5 6 7 8 9 \n",
            "\n"
          ],
          "name": "stdout"
        }
      ]
    },
    {
      "cell_type": "code",
      "metadata": {
        "id": "T8Z1K535wP4p",
        "colab_type": "code",
        "outputId": "043b1a72-2c88-4899-df5c-dbb571494b18",
        "colab": {
          "base_uri": "https://localhost:8080/",
          "height": 102
        }
      },
      "source": [
        "n = int(input(\"Enter The Number:\"))\n",
        "for i in range(n):\n",
        "  print(\"*\"*(i+1))"
      ],
      "execution_count": 0,
      "outputs": [
        {
          "output_type": "stream",
          "text": [
            "Enter The Number:4\n",
            "*\n",
            "**\n",
            "***\n",
            "****\n"
          ],
          "name": "stdout"
        }
      ]
    },
    {
      "cell_type": "code",
      "metadata": {
        "id": "1dtpmHENw1WY",
        "colab_type": "code",
        "outputId": "df771049-a41c-47bd-c985-995c91155d1f",
        "colab": {
          "base_uri": "https://localhost:8080/",
          "height": 204
        }
      },
      "source": [
        "n = int(input(\"Enter The Number:\"))\n",
        "c=n\n",
        "for i in range(n):\n",
        "  c=c-i\n",
        "  for j in range(i+1):\n",
        "    print(c, end=\" \")\n",
        "    c+=1\n",
        "  c-=1\n",
        "  print(\"\\n\")\n"
      ],
      "execution_count": 0,
      "outputs": [
        {
          "output_type": "stream",
          "text": [
            "Enter The Number:5\n",
            "5 \n",
            "\n",
            "4 5 \n",
            "\n",
            "3 4 5 \n",
            "\n",
            "2 3 4 5 \n",
            "\n",
            "1 2 3 4 5 \n",
            "\n"
          ],
          "name": "stdout"
        }
      ]
    },
    {
      "cell_type": "code",
      "metadata": {
        "id": "v8HlJ_U1yWw6",
        "colab_type": "code",
        "outputId": "ba38fd39-48e7-45d9-b8b6-8a91e343ac04",
        "colab": {
          "base_uri": "https://localhost:8080/",
          "height": 204
        }
      },
      "source": [
        "n = int(input(\"Enter The Number:\"))\n",
        "for i in range(n):\n",
        "  c=n-i\n",
        "  for j in range(n-i):\n",
        "    print(c, end=' ')\n",
        "    c-=1\n",
        "  print(\"\\n\")\n"
      ],
      "execution_count": 0,
      "outputs": [
        {
          "output_type": "stream",
          "text": [
            "Enter The Number:5\n",
            "5 4 3 2 1 \n",
            "\n",
            "4 3 2 1 \n",
            "\n",
            "3 2 1 \n",
            "\n",
            "2 1 \n",
            "\n",
            "1 \n",
            "\n"
          ],
          "name": "stdout"
        }
      ]
    },
    {
      "cell_type": "code",
      "metadata": {
        "id": "VJeQ4gQVznkM",
        "colab_type": "code",
        "outputId": "f4139eaf-1658-413e-8209-6d37d9c68687",
        "colab": {
          "base_uri": "https://localhost:8080/",
          "height": 272
        }
      },
      "source": [
        "n = int(input(\"Enter The Number:\"))\n",
        "for i in range(n):\n",
        "  c=i+1\n",
        "  for j in range(n-i):\n",
        "    print(c, end=' ')\n",
        "    c+=1\n",
        "  print(\"\\n\")\n",
        "for i in range(n-1):\n",
        "  c=n-i-1\n",
        "  for j in range(i+2):\n",
        "    print(c, end=' ')\n",
        "    c+=1\n",
        "  print(\"\\n\")"
      ],
      "execution_count": 0,
      "outputs": [
        {
          "output_type": "stream",
          "text": [
            "Enter The Number:4\n",
            "1 2 3 4 \n",
            "\n",
            "2 3 4 \n",
            "\n",
            "3 4 \n",
            "\n",
            "4 \n",
            "\n",
            "3 4 \n",
            "\n",
            "2 3 4 \n",
            "\n",
            "1 2 3 4 \n",
            "\n"
          ],
          "name": "stdout"
        }
      ]
    },
    {
      "cell_type": "markdown",
      "metadata": {
        "id": "_Q1exnxU5EtG",
        "colab_type": "text"
      },
      "source": [
        "# The length of a string without using len functions"
      ]
    },
    {
      "cell_type": "code",
      "metadata": {
        "id": "Z_oft-bG4vj0",
        "colab_type": "code",
        "outputId": "f8b282fd-5e57-4ae2-db4b-06b311cf48b9",
        "colab": {
          "base_uri": "https://localhost:8080/",
          "height": 51
        }
      },
      "source": [
        "c = 0\n",
        "for i in input(\"Enter The String: \"):\n",
        "    c += 1\n",
        "print(f'The Length Of String Is: {c}')\n"
      ],
      "execution_count": 0,
      "outputs": [
        {
          "output_type": "stream",
          "text": [
            "Enter The String: alvas\n",
            "The Length Of String Is: 5\n"
          ],
          "name": "stdout"
        }
      ]
    },
    {
      "cell_type": "markdown",
      "metadata": {
        "id": "TGtS0gH485m2",
        "colab_type": "text"
      },
      "source": [
        "# The no of words and characters in a string"
      ]
    },
    {
      "cell_type": "code",
      "metadata": {
        "id": "NfDufmKh82r5",
        "colab_type": "code",
        "outputId": "a5bc1169-3ff8-4e1e-9605-161e9d81409b",
        "colab": {
          "base_uri": "https://localhost:8080/",
          "height": 68
        }
      },
      "source": [
        "s = input(\"Enter The String: \")\n",
        "c = 0\n",
        "for i in s:\n",
        "    if i == \" \":\n",
        "        c += 1\n",
        "print(f'The Number Of Words In A String Is: {c + 1} \\nThe Number Of Characters In A String Is: {len(s)}')\n"
      ],
      "execution_count": 0,
      "outputs": [
        {
          "output_type": "stream",
          "text": [
            "Enter The String: Alvas mijar\n",
            "The Number Of Words In A String Is: 2 \n",
            "The Number Of Characters In A String Is: 11\n"
          ],
          "name": "stdout"
        }
      ]
    },
    {
      "cell_type": "markdown",
      "metadata": {
        "id": "v1xWPuRk9dNb",
        "colab_type": "text"
      },
      "source": [
        "# The no of occurrences of a word in a string"
      ]
    },
    {
      "cell_type": "code",
      "metadata": {
        "id": "F6kpv2JN9ckn",
        "colab_type": "code",
        "outputId": "ac300626-abbf-4272-d652-5b21bbdb6075",
        "colab": {
          "base_uri": "https://localhost:8080/",
          "height": 68
        }
      },
      "source": [
        "def countOccurences(s, w):   \n",
        "       \n",
        "    return c        \n",
        "s = input(\"Enter The Main String: \").lower()\n",
        "w = input(\"Enter Comparision String: \")\n",
        "a = s.split(\" \") \n",
        "c = 0\n",
        "for i in range(0, len(a)): \n",
        "  if (w == a[i]):\n",
        "    c = c + 1    \n",
        "print(c)"
      ],
      "execution_count": 0,
      "outputs": [
        {
          "output_type": "stream",
          "text": [
            "Enter The Main String: Alvas institute of engineering and technology alvas\n",
            "Enter Comparision String: alvas\n",
            "2\n"
          ],
          "name": "stdout"
        }
      ]
    }
  ]
}