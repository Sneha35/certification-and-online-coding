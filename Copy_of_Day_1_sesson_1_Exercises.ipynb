{
  "nbformat": 4,
  "nbformat_minor": 0,
  "metadata": {
    "colab": {
      "name": "Copy of Day 1 sesson 1 Exercises.ipynb",
      "provenance": [],
      "collapsed_sections": [],
      "include_colab_link": true
    },
    "kernelspec": {
      "name": "python3",
      "display_name": "Python 3"
    }
  },
  "cells": [
    {
      "cell_type": "markdown",
      "metadata": {
        "id": "view-in-github",
        "colab_type": "text"
      },
      "source": [
        "<a href=\"https://colab.research.google.com/github/mssuhas/certification-and-online-coding/blob/master/Copy_of_Day_1_sesson_1_Exercises.ipynb\" target=\"_parent\"><img src=\"https://colab.research.google.com/assets/colab-badge.svg\" alt=\"Open In Colab\"/></a>"
      ]
    },
    {
      "cell_type": "markdown",
      "metadata": {
        "id": "jpXfwhiaYEOG",
        "colab_type": "text"
      },
      "source": [
        "# The compound interest for the given p,n,r  (formula : p(1+n*r/100)n )"
      ]
    },
    {
      "cell_type": "code",
      "metadata": {
        "id": "0zYEAOJ7W8nK",
        "colab_type": "code",
        "outputId": "f9863348-5418-47e5-f529-9fc9637d804a",
        "colab": {
          "base_uri": "https://localhost:8080/",
          "height": 85
        }
      },
      "source": [
        "p = int(input(\"Enter The Principle amount: \"))\n",
        "n = int(input(\"Enter The Number Of Years: \"))\n",
        "r = int(input(\"Enter The Rate Of Interest: \"))\n",
        "print(f\"The Compound Interest Is: {p*(1+n*r/100)**n}\")"
      ],
      "execution_count": 0,
      "outputs": [
        {
          "output_type": "stream",
          "text": [
            "Enter The Principle amount: 1000\n",
            "Enter The Number Of Years: 2\n",
            "Enter The Rate Of Interest: 10\n",
            "The Compound Interest Is: 1440.0\n"
          ],
          "name": "stdout"
        }
      ]
    },
    {
      "cell_type": "markdown",
      "metadata": {
        "id": "XIZi96s3ZE3V",
        "colab_type": "text"
      },
      "source": [
        "# Convert centegrade to farenheit  ( f= 9/5*c+32)"
      ]
    },
    {
      "cell_type": "code",
      "metadata": {
        "id": "BPrzVDh-ZFD6",
        "colab_type": "code",
        "outputId": "e1b9d302-6984-420c-8db7-b409696fecf8",
        "colab": {
          "base_uri": "https://localhost:8080/",
          "height": 51
        }
      },
      "source": [
        "c = int(input(\"Enter The Temperature In Centegrade: \"))\n",
        "print(f\"The Temperature After Converted To Farenheit: {9/5*c+32}\")"
      ],
      "execution_count": 0,
      "outputs": [
        {
          "output_type": "stream",
          "text": [
            "Enter The Temperature In Centegrade: 25\n",
            "The Temperature After Converted To Farenheit: 77.0\n"
          ],
          "name": "stdout"
        }
      ]
    },
    {
      "cell_type": "markdown",
      "metadata": {
        "id": "8RzJAwI0Z6NT",
        "colab_type": "text"
      },
      "source": [
        "# The greater of two nos "
      ]
    },
    {
      "cell_type": "code",
      "metadata": {
        "id": "tPxlf4XeZ6dn",
        "colab_type": "code",
        "outputId": "490a737e-e116-49c1-e8e3-8e946c07d448",
        "colab": {
          "base_uri": "https://localhost:8080/",
          "height": 68
        }
      },
      "source": [
        "m = int(input(\"Enter The First Num: \"))\n",
        "n = int(input(\"Enter The Second Num: \"))\n",
        "if(m>n):\n",
        "  print(f\"{m} Is Greater Than {n}\")\n",
        "else:\n",
        "  print(f\"{n} Is Greater Than {m}\")"
      ],
      "execution_count": 0,
      "outputs": [
        {
          "output_type": "stream",
          "text": [
            "Enter The First Num: 8\n",
            "Enter The Second Num: 11\n",
            "11 Is Greater Than 8\n"
          ],
          "name": "stdout"
        }
      ]
    },
    {
      "cell_type": "markdown",
      "metadata": {
        "id": "-y1EKetZaqBE",
        "colab_type": "text"
      },
      "source": [
        "# Finding surface areas of cylinder and cone (2*PI*r*r*h, 1/3*PI*r*r*h) using function."
      ]
    },
    {
      "cell_type": "code",
      "metadata": {
        "id": "z0SqLfCIaqS1",
        "colab_type": "code",
        "outputId": "907a60d7-e363-449a-90e4-f069ae0c9a75",
        "colab": {
          "base_uri": "https://localhost:8080/",
          "height": 119
        }
      },
      "source": [
        "def cylarea(r, h):\n",
        "  return 2*3.14*r**2*h\n",
        "def conearea(r, h):\n",
        "  return 1/3*3.14*r**2*h\n",
        "r1 = int(input(\"Enter The Radius Of Cylinder: \"))\n",
        "h1 = int(input(\"Enter The Height Of Cylinder: \"))\n",
        "print(f\"Surface Area Of Cylinder Is: {cylarea(r1, h1)}\")\n",
        "r2 = int(input(\"Enter The Radius Of Cone: \"))\n",
        "h2 = int(input(\"Enter The Height Of Cone: \"))\n",
        "print(f\"Surface Area Of Cone Is: {conearea(r2, h2)}\")\n"
      ],
      "execution_count": 0,
      "outputs": [
        {
          "output_type": "stream",
          "text": [
            "Enter The Radius Of Cylinder: 2\n",
            "Enter The Height Of Cylinder: 5\n",
            "Surface Area Of Cylinder Is: 125.60000000000001\n",
            "Enter The Radius Of Cone: 3\n",
            "Enter The Height Of Cone: 4\n",
            "Surface Area Of Cone Is: 37.68\n"
          ],
          "name": "stdout"
        }
      ]
    },
    {
      "cell_type": "markdown",
      "metadata": {
        "id": "CRkN6Zcud2yQ",
        "colab_type": "text"
      },
      "source": [
        "# The greatest of four nos ( using ‘and’ operator)   using function."
      ]
    },
    {
      "cell_type": "code",
      "metadata": {
        "id": "Dj_6flR5d3AL",
        "colab_type": "code",
        "outputId": "499419db-9305-41b3-f5d2-9a9b6139a621",
        "colab": {
          "base_uri": "https://localhost:8080/",
          "height": 102
        }
      },
      "source": [
        "n1 = int(input(\"Enter The First Number: \"))\n",
        "n2 = int(input(\"Enter The Second Number: \"))\n",
        "n3 = int(input(\"Enter The Third Number: \"))\n",
        "n4 = int(input(\"Enter The Fourth Number: \"))\n",
        "if(n1>n2 and n1>n3 and n1>n4):\n",
        "  print(f\"{n1} Is Greater Than {n2}, {n3}, {n4}\")\n",
        "elif(n2>n1 and n2>n3 and n2>n4):\n",
        "  print(f\"{n2} Is Greater Than {n1}, {n3}, {n4}\")\n",
        "elif(n3>n1 and n3>n2 and n3>n4):\n",
        "  print(f\"{n3} Is Greater Than {n1}, {n2}, {n4}\")\n",
        "else:\n",
        "  print(f\"{n4} Is Greater Than {n1}, {n2}, {n3}\")"
      ],
      "execution_count": 0,
      "outputs": [
        {
          "output_type": "stream",
          "text": [
            "Enter The First Number: 8\n",
            "Enter The Second Number: 4\n",
            "Enter The Third Number: 5\n",
            "Enter The Fourth Number: 9\n",
            "9 Is Greater Than 8, 4, 5\n"
          ],
          "name": "stdout"
        }
      ]
    },
    {
      "cell_type": "markdown",
      "metadata": {
        "id": "WeHCehwYg2eT",
        "colab_type": "text"
      },
      "source": [
        "# A menu program to perform the operations ( ODDorEven, Factorial, ODDNoUptoN, PrimeUptoN ) using functions for two nos with  menu choice"
      ]
    },
    {
      "cell_type": "code",
      "metadata": {
        "id": "Q-OFY9WXg2wF",
        "colab_type": "code",
        "outputId": "28545f56-60e4-4dd3-f7c1-39d9ae4de5c0",
        "colab": {
          "base_uri": "https://localhost:8080/",
          "height": 1000
        }
      },
      "source": [
        "loop = 1\n",
        "choice = 0\n",
        "def OddorEven(n):\n",
        "  if(n%2==0):\n",
        "    return True\n",
        "def fact(f):\n",
        "  s=1\n",
        "  while(f>0):\n",
        "    s=s*f\n",
        "    f=f-1\n",
        "  print(f\"Factorial Of {f} Is: {s}\")\n",
        "def Odd(o):\n",
        "  for i in range(o+1):\n",
        "    if(i%2 != 0):\n",
        "      print(i, end=' ')\n",
        "def prime(p):\n",
        "  c=0\n",
        "  print(2, end=' ')\n",
        "  for i in range(3,p+1):\n",
        "    for j in range(2,i):\n",
        "      if(i % j == 0):\n",
        "        c=1\n",
        "        break\n",
        "    if(c==0):\n",
        "      print(i, end=' ')\n",
        "    c=0\n",
        "\n",
        "while loop == 1:\n",
        "    print(\" \")\n",
        "    print (\"your options are:\")\n",
        "    print (\" \")\n",
        "    print(\"1) Odd or Even\")\n",
        "    print(\"2) Factorial\")\n",
        "    print(\"3) Odd Number Upto N\")\n",
        "    print(\"4) Prime Number upto N\")\n",
        "    print(\"5) Quit\")\n",
        "    print(\" \")\n",
        "    try:\n",
        "        choice = int(input(\"Choose your option: \"))\n",
        "    except:\n",
        "        print('please enter a valid number for option')\n",
        "    print(\" \")\n",
        "    if choice == 1:\n",
        "      n = int(input(\"Enter The Number: \"))\n",
        "      if(OddorEven(n)):\n",
        "        print(\"The Number Is Even\")\n",
        "      else:\n",
        "        print(\"The Number Is Odd\")\n",
        "    elif choice == 2:\n",
        "      f = int(input(\"Enter The Number: \"))\n",
        "      fact(f)\n",
        "    elif choice == 3:\n",
        "      o = int(input(\"Enter The Number: \"))\n",
        "      Odd(o)\n",
        "    elif choice == 4:\n",
        "      p = int(input(\"Enter The Number: \"))\n",
        "      prime(p)\n",
        "    elif choice == 5:\n",
        "      loop = 0\n",
        "    else:\n",
        "      print(\"please choice a valid option from 1 to 5\")\n",
        "      choice=0\n"
      ],
      "execution_count": 0,
      "outputs": [
        {
          "output_type": "stream",
          "text": [
            " \n",
            "your options are:\n",
            " \n",
            "1) Odd or Even\n",
            "2) Factorial\n",
            "3) Odd Number Upto N\n",
            "4) Prime Number upto N\n",
            "5) Quit\n",
            " \n",
            "Choose your option: 1\n",
            " \n",
            "Enter The Number: 5\n",
            "The Number Is Odd\n",
            " \n",
            "your options are:\n",
            " \n",
            "1) Odd or Even\n",
            "2) Factorial\n",
            "3) Odd Number Upto N\n",
            "4) Prime Number upto N\n",
            "5) Quit\n",
            " \n",
            "Choose your option: 2\n",
            " \n",
            "Enter The Number: 5\n",
            "Factorial Of 0 Is: 120\n",
            " \n",
            "your options are:\n",
            " \n",
            "1) Odd or Even\n",
            "2) Factorial\n",
            "3) Odd Number Upto N\n",
            "4) Prime Number upto N\n",
            "5) Quit\n",
            " \n",
            "Choose your option: 3\n",
            " \n",
            "Enter The Number: 15\n",
            "1 3 5 7 9 11 13 15  \n",
            "your options are:\n",
            " \n",
            "1) Odd or Even\n",
            "2) Factorial\n",
            "3) Odd Number Upto N\n",
            "4) Prime Number upto N\n",
            "5) Quit\n",
            " \n",
            "Choose your option: 4\n",
            " \n",
            "Enter The Number: 10\n",
            "2 3 5 7  \n",
            "your options are:\n",
            " \n",
            "1) Odd or Even\n",
            "2) Factorial\n",
            "3) Odd Number Upto N\n",
            "4) Prime Number upto N\n",
            "5) Quit\n",
            " \n",
            "Choose your option: 5\n",
            " \n"
          ],
          "name": "stdout"
        }
      ]
    }
  ]
}